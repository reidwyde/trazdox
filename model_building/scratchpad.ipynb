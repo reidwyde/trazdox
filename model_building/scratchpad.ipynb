{
 "cells": [
  {
   "cell_type": "code",
   "execution_count": 1,
   "metadata": {},
   "outputs": [],
   "source": [
    "import numpy as np\n",
    "\n",
    "import theano\n",
    "import theano.tensor as tt\n",
    "from theano.compile.ops import as_op\n",
    "\n",
    "import pymc3 as pm\n",
    "\n",
    "from theano import shared\n"
   ]
  },
  {
   "cell_type": "code",
   "execution_count": 2,
   "metadata": {},
   "outputs": [
    {
     "name": "stdout",
     "output_type": "stream",
     "text": [
      "FromFunctionOp{th_forward_model}.0\n"
     ]
    }
   ],
   "source": [
    "param_estimates = {\n",
    "            'r':[0.0001,0.1],\n",
    "            'lambda_h': [0.0001, 10],\n",
    "            'lambda_d': [0.0001, 10],\n",
    "            'lambda_hd': [0.0001, 10],\n",
    "            'tau_d': [0.0001, 0.5],\n",
    "            'tau_h': [0.0001, 0.3],\n",
    "            'lambda_dh': [0.0001,10]\n",
    "        }\n",
    "\n",
    "param_list = list(param_estimates.keys())\n",
    "\n",
    "\n",
    "with pm.Model() as model:\n",
    "        #form priors\n",
    "        prior_distributions = [pm.Uniform(list(param_estimates.keys())[ii], lower=param_estimates[param_list[ii]][0], upper=param_estimates[param_list[ii]][1]) for ii in range(len(param_list))]\n",
    "        #prior_distributions = shared(prior_distributions)\n",
    "        prior_distributions = tt.as_tensor_variable(prior_distributions)\n",
    "        \n",
    "        #do double wrap on the list\n",
    "        ## Theano wrapper is necessary in order to pass the forward evolution to PyMC3\n",
    "        @as_op(itypes=[tt.dvector], otypes=[tt.dvector]) \n",
    "        def th_forward_model(prior_distributions):\n",
    "            return prior_distributions\n",
    "\n",
    "        forward = th_forward_model(prior_distributions)\n",
    "\n",
    "        print(forward)"
   ]
  },
  {
   "cell_type": "code",
   "execution_count": 3,
   "metadata": {},
   "outputs": [],
   "source": [
    "def simulate(var_vec):\n",
    "    return sum(var_vec)"
   ]
  },
  {
   "cell_type": "code",
   "execution_count": 4,
   "metadata": {
    "scrolled": true
   },
   "outputs": [
    {
     "ename": "NameError",
     "evalue": "name 'var_vec' is not defined",
     "output_type": "error",
     "traceback": [
      "\u001b[1;31m---------------------------------------------------------------------------\u001b[0m",
      "\u001b[1;31mNameError\u001b[0m                                 Traceback (most recent call last)",
      "\u001b[1;32m<ipython-input-4-956fdbc4ec88>\u001b[0m in \u001b[0;36m<module>\u001b[1;34m\u001b[0m\n\u001b[1;32m----> 1\u001b[1;33m \u001b[1;33m[\u001b[0m\u001b[0mtt\u001b[0m\u001b[1;33m.\u001b[0m\u001b[0mdscalar\u001b[0m \u001b[1;32mfor\u001b[0m \u001b[0mx\u001b[0m \u001b[1;32min\u001b[0m \u001b[0mrange\u001b[0m\u001b[1;33m(\u001b[0m\u001b[0mlen\u001b[0m\u001b[1;33m(\u001b[0m\u001b[0mvar_vec\u001b[0m\u001b[1;33m)\u001b[0m\u001b[1;33m)\u001b[0m\u001b[1;33m]\u001b[0m\u001b[1;33m\u001b[0m\u001b[1;33m\u001b[0m\u001b[0m\n\u001b[0m",
      "\u001b[1;31mNameError\u001b[0m: name 'var_vec' is not defined"
     ]
    }
   ],
   "source": [
    "[tt.dscalar for x in range(len(var_vec))]"
   ]
  },
  {
   "cell_type": "code",
   "execution_count": null,
   "metadata": {},
   "outputs": [],
   "source": [
    "def infer_shape(node, input_shapes):\n",
    "    return 5"
   ]
  },
  {
   "cell_type": "code",
   "execution_count": null,
   "metadata": {},
   "outputs": [],
   "source": [
    "theano_var_vec = tt.vector('vars')\n",
    "thean_var_vec = tt.set_subtensor(var_vec, 1)"
   ]
  },
  {
   "cell_type": "code",
   "execution_count": null,
   "metadata": {},
   "outputs": [],
   "source": [
    "#@as_op(itypes=[tt.dscalar for x in range(len(var_vec))], otypes=[tt.dmatrix], infer_shape=infer_shape) \n",
    "@as_op(itypes=[tt.dvector], otypes=[tt.dmatrix])\n",
    "def th_forward_model(var_vec):\n",
    "    th_states = self.simulate(var_vec)\n",
    "    return th_states\n",
    "\n",
    "forward = th_forward_model(var_vec)\n"
   ]
  },
  {
   "cell_type": "code",
   "execution_count": null,
   "metadata": {},
   "outputs": [],
   "source": []
  }
 ],
 "metadata": {
  "kernelspec": {
   "display_name": "Python 3",
   "language": "python",
   "name": "python3"
  },
  "language_info": {
   "codemirror_mode": {
    "name": "ipython",
    "version": 3
   },
   "file_extension": ".py",
   "mimetype": "text/x-python",
   "name": "python",
   "nbconvert_exporter": "python",
   "pygments_lexer": "ipython3",
   "version": "3.7.4"
  }
 },
 "nbformat": 4,
 "nbformat_minor": 4
}
