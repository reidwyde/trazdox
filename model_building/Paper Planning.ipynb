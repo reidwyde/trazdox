{
 "cells": [
  {
   "cell_type": "markdown",
   "metadata": {},
   "source": [
    "## Paper \n",
    "\n",
    "0) previous paper with this data\n",
    "1) motivation for this model, order of dose affecting treatment outcome\n",
    "2) interaction terms\n",
    "3) show models\n",
    "4) model selection theory\n",
    "5) show data and methodology\n",
    "6) optimal control theory\n",
    "7) results, show selection of model, optimal control\n",
    "\n",
    "ODE stuff\n",
    "\n",
    "- show solutions\n",
    "- show existence\n",
    "- anova\n",
    "- nullclines\n",
    "- model identifiability\n",
    "\n",
    "\n",
    "\n",
    "\n",
    "Journal will have the latex template online\n",
    "\n",
    "\n"
   ]
  },
  {
   "cell_type": "markdown",
   "metadata": {},
   "source": [
    "overleaf is an online latex editor\n"
   ]
  }
 ],
 "metadata": {
  "kernelspec": {
   "display_name": "Python 3",
   "language": "python",
   "name": "python3"
  },
  "language_info": {
   "codemirror_mode": {
    "name": "ipython",
    "version": 3
   },
   "file_extension": ".py",
   "mimetype": "text/x-python",
   "name": "python",
   "nbconvert_exporter": "python",
   "pygments_lexer": "ipython3",
   "version": "3.7.4"
  }
 },
 "nbformat": 4,
 "nbformat_minor": 2
}
