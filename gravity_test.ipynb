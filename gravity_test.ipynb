{
 "cells": [
  {
   "cell_type": "code",
   "execution_count": 1,
   "metadata": {},
   "outputs": [],
   "source": [
    "import numpy as np\n",
    "import matplotlib.pyplot as plt\n",
    "plt.style.use('seaborn-darkgrid')\n",
    "\n",
    "# Initialize random number generator\n",
    "np.random.seed(123)\n",
    "\n"
   ]
  },
  {
   "cell_type": "code",
   "execution_count": 2,
   "metadata": {},
   "outputs": [
    {
     "data": {
      "text/plain": [
       "(14, 3)"
      ]
     },
     "execution_count": 2,
     "metadata": {},
     "output_type": "execute_result"
    }
   ],
   "source": [
    "import pandas as pd\n",
    "\n",
    "gravity_data = pd.read_csv('gravity_data.csv')\n",
    "gravity_data.shape"
   ]
  },
  {
   "cell_type": "code",
   "execution_count": 3,
   "metadata": {
    "scrolled": true
   },
   "outputs": [
    {
     "data": {
      "text/html": [
       "<div>\n",
       "<style scoped>\n",
       "    .dataframe tbody tr th:only-of-type {\n",
       "        vertical-align: middle;\n",
       "    }\n",
       "\n",
       "    .dataframe tbody tr th {\n",
       "        vertical-align: top;\n",
       "    }\n",
       "\n",
       "    .dataframe thead th {\n",
       "        text-align: right;\n",
       "    }\n",
       "</style>\n",
       "<table border=\"1\" class=\"dataframe\">\n",
       "  <thead>\n",
       "    <tr style=\"text-align: right;\">\n",
       "      <th></th>\n",
       "      <th>altitude (m)</th>\n",
       "      <th>time (s)</th>\n",
       "      <th>Std. Dev. σ (s)</th>\n",
       "    </tr>\n",
       "  </thead>\n",
       "  <tbody>\n",
       "    <tr>\n",
       "      <th>0</th>\n",
       "      <td>10</td>\n",
       "      <td>1.41</td>\n",
       "      <td>0.02</td>\n",
       "    </tr>\n",
       "    <tr>\n",
       "      <th>1</th>\n",
       "      <td>20</td>\n",
       "      <td>2.14</td>\n",
       "      <td>0.12</td>\n",
       "    </tr>\n",
       "    <tr>\n",
       "      <th>2</th>\n",
       "      <td>30</td>\n",
       "      <td>2.49</td>\n",
       "      <td>0.02</td>\n",
       "    </tr>\n",
       "    <tr>\n",
       "      <th>3</th>\n",
       "      <td>40</td>\n",
       "      <td>2.87</td>\n",
       "      <td>0.01</td>\n",
       "    </tr>\n",
       "    <tr>\n",
       "      <th>4</th>\n",
       "      <td>50</td>\n",
       "      <td>3.22</td>\n",
       "      <td>0.03</td>\n",
       "    </tr>\n",
       "  </tbody>\n",
       "</table>\n",
       "</div>"
      ],
      "text/plain": [
       "   altitude (m)  time (s)  Std. Dev. σ (s) \n",
       "0            10      1.41              0.02\n",
       "1            20      2.14              0.12\n",
       "2            30      2.49              0.02\n",
       "3            40      2.87              0.01\n",
       "4            50      3.22              0.03"
      ]
     },
     "execution_count": 3,
     "metadata": {},
     "output_type": "execute_result"
    }
   ],
   "source": [
    "gravity_data.head()"
   ]
  },
  {
   "cell_type": "code",
   "execution_count": 45,
   "metadata": {},
   "outputs": [],
   "source": [
    "#trying to fit the prior\n",
    "\n",
    "# h = 1/2 g t^2\n",
    "# t = sqrt(2h/g)\n",
    "# t = sqrt(2h/g) +- std dev\n",
    "\n",
    "h1 = gravity_data[gravity_data.columns[0]].astype('float')\n",
    "h1 = np.array(h1)\n",
    "t1 = gravity_data['time (s)']\n",
    "t1 = np.array(t1)\n",
    "s1 = gravity_data[gravity_data.columns[2]]\n",
    "s1 = np.array(s1)\n"
   ]
  },
  {
   "cell_type": "code",
   "execution_count": 46,
   "metadata": {},
   "outputs": [
    {
     "name": "stdout",
     "output_type": "stream",
     "text": [
      "[ 10.  20.  30.  40.  50.  60.  70.  80.  90. 100. 110. 120. 130. 140.]\n",
      "<class 'numpy.ndarray'>\n"
     ]
    }
   ],
   "source": [
    "print(h1)\n",
    "print(type(h1))"
   ]
  },
  {
   "cell_type": "code",
   "execution_count": 47,
   "metadata": {
    "scrolled": true
   },
   "outputs": [
    {
     "name": "stdout",
     "output_type": "stream",
     "text": [
      "[1.41 2.14 2.49 2.87 3.22 3.49 3.81 4.07 4.32 4.47 4.75 4.99 5.16 5.26]\n",
      "<class 'numpy.ndarray'>\n"
     ]
    }
   ],
   "source": [
    "print(t1)\n",
    "print(type(t1))"
   ]
  },
  {
   "cell_type": "code",
   "execution_count": 48,
   "metadata": {
    "scrolled": true
   },
   "outputs": [
    {
     "name": "stdout",
     "output_type": "stream",
     "text": [
      "[0.02 0.12 0.02 0.01 0.03 0.01 0.03 0.03 0.03 0.05 0.01 0.04 0.01 0.09]\n",
      "<class 'numpy.ndarray'>\n"
     ]
    }
   ],
   "source": [
    "print(s1)\n",
    "print(type(s1))"
   ]
  },
  {
   "cell_type": "code",
   "execution_count": 51,
   "metadata": {},
   "outputs": [
    {
     "data": {
      "image/png": "[encoded data removed]",
      "text/plain": [
       "<Figure size 720x288 with 2 Axes>"
      ]
     },
     "metadata": {
      "needs_background": "light"
     },
     "output_type": "display_data"
    }
   ],
   "source": [
    "%matplotlib inline\n",
    "\n",
    "fig, axes = plt.subplots(1, 2, sharex=True, figsize=(10,4))\n",
    "axes[0].scatter(h1, t1)\n",
    "axes[1].scatter(h1, s1)\n",
    "axes[0].set_ylabel('time'); axes[0].set_xlabel('h1'); axes[1].set_xlabel('s1');"
   ]
  },
  {
   "cell_type": "code",
   "execution_count": 52,
   "metadata": {},
   "outputs": [],
   "source": [
    "import pymc3 as pm\n"
   ]
  },
  {
   "cell_type": "markdown",
   "metadata": {},
   "source": [
    "Given time and height, calc gravity\n"
   ]
  },
  {
   "cell_type": "code",
   "execution_count": 53,
   "metadata": {},
   "outputs": [],
   "source": [
    "gravity_model = pm.Model()\n",
    "\n",
    "with gravity_model:\n",
    "    g = pm.Normal('g', mu =0, sigma=2)\n",
    "    sigma= pm.HalfNormal('sigma', sigma = 1)\n",
    "    \n",
    "     \n",
    "    #expected outcome of variable\n",
    "    mu = 1/2*g*(t1**2)\n",
    "    \n",
    "    #Likelihood (sampling distribution) of observations\n",
    "    h_obs = pm.Normal('h_obs', mu=mu, sigma=sigma, observed=h1)\n",
    "    \n"
   ]
  },
  {
   "cell_type": "code",
   "execution_count": 54,
   "metadata": {},
   "outputs": [
    {
     "name": "stderr",
     "output_type": "stream",
     "text": [
      "logp = -42.469, ||grad|| = 3.4653: 100%|█████████████████████████████████████████████| 37/37 [00:00<00:00, 1609.51it/s]\n"
     ]
    },
    {
     "data": {
      "text/plain": [
       "{'g': array(9.79723138),\n",
       " 'sigma_log__': array(0.44870511),\n",
       " 'sigma': array(1.5662827)}"
      ]
     },
     "execution_count": 54,
     "metadata": {},
     "output_type": "execute_result"
    }
   ],
   "source": [
    "map_estimate = pm.find_MAP(model=gravity_model)\n",
    "map_estimate"
   ]
  },
  {
   "cell_type": "code",
   "execution_count": 68,
   "metadata": {},
   "outputs": [],
   "source": [
    "import math\n",
    "gravity_model_2 = pm.Model()\n",
    "\n",
    "with gravity_model_2:\n",
    "    g = pm.Normal('g', mu =5, sigma=2) #has to be slightly biased\n",
    "                                        #because negative values of g will cause destructive interference\n",
    "    \n",
    "    sigma= pm.HalfNormal('sigma', sigma=1)\n",
    "    \n",
    "    #expected outcome of variable\n",
    "    mu = (2*h1/g)**0.5\n",
    "    \n",
    "    #Likelihood (sampling distribution) of observations\n",
    "    t_obs = pm.Normal('t_obs', mu=mu, sigma=sigma, observed=t1)\n",
    "    \n",
    "    \n",
    "    "
   ]
  },
  {
   "cell_type": "code",
   "execution_count": 69,
   "metadata": {},
   "outputs": [
    {
     "name": "stderr",
     "output_type": "stream",
     "text": [
      "C:\\Users\\Reid\\Anaconda3\\lib\\site-packages\\pymc3\\tuning\\starting.py:61: UserWarning: find_MAP should not be used to initialize the NUTS sampler, simply call pymc3.sample() and it will automatically initialize NUTS in a better way.\n",
      "  warnings.warn('find_MAP should not be used to initialize the NUTS sampler, simply call pymc3.sample() and it will automatically initialize NUTS in a better way.')\n",
      "logp = 17.304, ||grad|| = 19.851: 100%|██████████████████████████████████████████████| 28/28 [00:00<00:00, 1474.55it/s]\n"
     ]
    },
    {
     "data": {
      "text/plain": [
       "{'g': array(9.762805),\n",
       " 'sigma_log__': array(-3.0787309),\n",
       " 'sigma': array(0.04601762)}"
      ]
     },
     "execution_count": 69,
     "metadata": {},
     "output_type": "execute_result"
    }
   ],
   "source": [
    "map_estimate = pm.find_MAP(model=gravity_model_2)\n",
    "map_estimate"
   ]
  },
  {
   "cell_type": "code",
   "execution_count": 70,
   "metadata": {},
   "outputs": [
    {
     "name": "stderr",
     "output_type": "stream",
     "text": [
      "Auto-assigning NUTS sampler...\n",
      "Initializing NUTS using jitter+adapt_diag...\n",
      "Multiprocess sampling (2 chains in 2 jobs)\n",
      "NUTS: [sigma, g]\n",
      "Sampling 2 chains: 100%|██████████████████████████████████████████████████████| 2000/2000 [00:03<00:00, 1019.52draws/s]\n",
      "The acceptance probability does not match the target. It is 0.8993095765756007, but should be close to 0.8. Try to increase the number of tuning steps.\n"
     ]
    },
    {
     "name": "stdout",
     "output_type": "stream",
     "text": [
      "[9.77977651 9.86819003 9.86819003 9.76513577 9.74344421]\n"
     ]
    }
   ],
   "source": [
    "#do it again with mcmc\n",
    "\n",
    "with gravity_model:\n",
    "    trace = pm.sample(500, chains=2)\n",
    "\n",
    "print(trace['g'][-5:])\n",
    "\n"
   ]
  },
  {
   "cell_type": "code",
   "execution_count": 71,
   "metadata": {},
   "outputs": [
    {
     "name": "stderr",
     "output_type": "stream",
     "text": [
      "Auto-assigning NUTS sampler...\n",
      "Initializing NUTS using jitter+adapt_diag...\n",
      "Multiprocess sampling (2 chains in 2 jobs)\n",
      "NUTS: [sigma, g]\n",
      "Sampling 2 chains: 100%|███████████████████████████████████████████████████████| 2000/2000 [00:03<00:00, 525.89draws/s]\n"
     ]
    },
    {
     "name": "stdout",
     "output_type": "stream",
     "text": [
      "[9.77680244 9.71820535 9.80093993 9.68188323 9.84593079]\n"
     ]
    }
   ],
   "source": [
    "\n",
    "with gravity_model_2:\n",
    "    trace = pm.sample(500, chains=2)\n",
    "\n",
    "print(trace['g'][-5:])"
   ]
  },
  {
   "cell_type": "code",
   "execution_count": null,
   "metadata": {},
   "outputs": [],
   "source": []
  }
 ],
 "metadata": {
  "kernelspec": {
   "display_name": "Python 3",
   "language": "python",
   "name": "python3"
  },
  "language_info": {
   "codemirror_mode": {
    "name": "ipython",
    "version": 3
   },
   "file_extension": ".py",
   "mimetype": "text/x-python",
   "name": "python",
   "nbconvert_exporter": "python",
   "pygments_lexer": "ipython3",
   "version": "3.7.3"
  }
 },
 "nbformat": 4,
 "nbformat_minor": 2
}
