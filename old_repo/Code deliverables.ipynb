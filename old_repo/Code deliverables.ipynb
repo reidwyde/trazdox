{
 "cells": [
  {
   "cell_type": "raw",
   "metadata": {},
   "source": [
    "#provide sources for the data\n",
    "\n",
    "\n",
    "#code updates\n",
    "logistic versions of each model\n",
    "multilevel mcmc\n",
    "checkpointing\n",
    "visualization during training\n",
    "analysis at the end\n",
    "    write to summary file\n",
    "    automatic information criterion stuff\n",
    "\n",
    "#provide a readme for extension and reproduction of the models\n",
    "introduction to markov chain monte carlo\n",
    "diagram of the control flow of the code\n",
    "example extending model 1 to model 2\n",
    "running the model\n",
    "analyzing results\n",
    "    visualizing fit\n",
    "    central limit theorem\n",
    "\n",
    "problems that were found\n",
    "numerical stability\n",
    "    length of chains >> number of chains\n",
    "dependency construction\n",
    "\n",
    "\n",
    "#provide a list of package dependencies\n",
    "#requirements.txt\n",
    "#dockerfy it\n",
    "pymc3\n",
    "theano\n",
    "numpy\n",
    "matplotlib\n",
    "\n",
    "#clean up, remove all the dead stuff\n",
    "#old models\n",
    "#intermediate paper writing stuff\n",
    "#condense down the util files"
   ]
  }
 ],
 "metadata": {
  "kernelspec": {
   "display_name": "Python 3",
   "language": "python",
   "name": "python3"
  },
  "language_info": {
   "codemirror_mode": {
    "name": "ipython",
    "version": 3
   },
   "file_extension": ".py",
   "mimetype": "text/x-python",
   "name": "python",
   "nbconvert_exporter": "python",
   "pygments_lexer": "ipython3",
   "version": "3.7.4"
  }
 },
 "nbformat": 4,
 "nbformat_minor": 4
}
