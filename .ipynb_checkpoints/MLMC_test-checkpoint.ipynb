{
 "cells": [
  {
   "cell_type": "code",
   "execution_count": 14,
   "metadata": {},
   "outputs": [
    {
     "ename": "ModuleNotFoundError",
     "evalue": "No module named 'MLMCPy.Input'",
     "output_type": "error",
     "traceback": [
      "\u001b[1;31m---------------------------------------------------------------------------\u001b[0m",
      "\u001b[1;31mModuleNotFoundError\u001b[0m                       Traceback (most recent call last)",
      "\u001b[1;32m<ipython-input-14-41ad2bff7c2c>\u001b[0m in \u001b[0;36m<module>\u001b[1;34m()\u001b[0m\n\u001b[0;32m      8\u001b[0m \u001b[1;32mimport\u001b[0m \u001b[0msys\u001b[0m\u001b[1;33m\u001b[0m\u001b[1;33m\u001b[0m\u001b[0m\n\u001b[0;32m      9\u001b[0m \u001b[1;33m\u001b[0m\u001b[0m\n\u001b[1;32m---> 10\u001b[1;33m \u001b[1;32mfrom\u001b[0m \u001b[0mMLMCPy\u001b[0m\u001b[1;33m.\u001b[0m\u001b[0mInput\u001b[0m \u001b[1;32mimport\u001b[0m \u001b[0mRandomInput\u001b[0m\u001b[1;33m\u001b[0m\u001b[1;33m\u001b[0m\u001b[0m\n\u001b[0m\u001b[0;32m     11\u001b[0m \u001b[1;32mfrom\u001b[0m \u001b[0mMLMCPy\u001b[0m\u001b[1;33m.\u001b[0m\u001b[0mmlmc\u001b[0m \u001b[1;32mimport\u001b[0m \u001b[0mMLMCSimulator\u001b[0m\u001b[1;33m\u001b[0m\u001b[1;33m\u001b[0m\u001b[0m\n\u001b[0;32m     12\u001b[0m \u001b[1;33m\u001b[0m\u001b[0m\n",
      "\u001b[1;31mModuleNotFoundError\u001b[0m: No module named 'MLMCPy.Input'"
     ]
    }
   ],
   "source": [
    "'''\n",
    "Simple example of propagating uncertainty through a spring-mass model using MLMC. \n",
    "Estimates the expected value of the maximum displacement of the system when the spring \n",
    "stiffness is a random variable. See the /examples/spring_mass/from_model/ for more details.\n",
    "'''\n",
    "\n",
    "import numpy as np\n",
    "import sys\n",
    "\n",
    "from MLMCPy.input import RandomInput\n",
    "from MLMCPy.mlmc import MLMCSimulator\n",
    "\n",
    "\n",
    "\n",
    "# Add path for example SpringMassModel to sys path.\n",
    "sys.path.append('./examples/spring_mass/from_model/spring_mass')\n",
    "import SpringMassModel\n",
    "\n",
    "# Step 1 - Define random variable for spring stiffness:\n",
    "# Need to provide a sampleable function to create RandomInput instance in MLMCPy\n",
    "def beta_distribution(shift, scale, alpha, beta, size):\n",
    "    return shift + scale*np.random.beta(alpha, beta, size)\n",
    "\n",
    "stiffness_distribution = RandomInput(distribution_function=beta_distribution,\n",
    "                                     shift=1.0, scale=2.5, alpha=3., beta=2.)\n",
    "\n",
    "# Step 2 - Initialize spring-mass models. Here using three levels with MLMC.\n",
    "# defined by different time steps\n",
    "model_level1 = SpringMassModel(mass=1.5, time_step=1.0)\n",
    "model_level2 = SpringMassModel(mass=1.5, time_step=0.1)\n",
    "model_level3 = SpringMassModel(mass=1.5, time_step=0.01)\n",
    "models = [model_level1, model_level2, model_level3]\n",
    "\n",
    "# Step 3 - Initialize MLMC & predict max displacement to specified error (0.1).\n",
    "mlmc_simulator = MLMCSimulator(stiffness_distribution, models)\n",
    "[estimates, sample_sizes, variances] = mlmc_simulator.simulate(epsilon=1e-1)"
   ]
  },
  {
   "cell_type": "code",
   "execution_count": null,
   "metadata": {
    "collapsed": true
   },
   "outputs": [],
   "source": []
  }
 ],
 "metadata": {
  "kernelspec": {
   "display_name": "Python 3",
   "language": "python",
   "name": "python3"
  },
  "language_info": {
   "codemirror_mode": {
    "name": "ipython",
    "version": 3
   },
   "file_extension": ".py",
   "mimetype": "text/x-python",
   "name": "python",
   "nbconvert_exporter": "python",
   "pygments_lexer": "ipython3",
   "version": "3.6.7"
  }
 },
 "nbformat": 4,
 "nbformat_minor": 2
}
